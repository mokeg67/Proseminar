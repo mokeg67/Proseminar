{
 "cells": [
  {
   "cell_type": "markdown",
   "metadata": {
    "collapsed": false
   },
   "source": [
    "# Vorbereitung"
   ]
  },
  {
   "cell_type": "code",
   "execution_count": null,
   "metadata": {},
   "outputs": [],
   "source": [
    "import time\n",
    "from functools import cache\n",
    "\n",
    "unsafe_composite = 5261933844650100908430030083398098838688018147149529533465444719385566864605781576487305356717074882505882701585297765789323726258356035692769897420620858774763694117634408028918270394852404169072671551096321238430993811080749636806153881798472848720411673994908247486124703888115308603904735959457057925225503197625820670522050494196703154086316062123787934777520599894745147260327060174336101658295022275013051816321617046927321006322752178354002696596328204277122466231388232487691224076847557856202947748540263791767128195927179588238799470987669558119422552470505956858217654904628177286026365989987106877656917\n",
    "\n",
    "# Definiere Dekorierer Funktion um die Laufzeit von den Algorithmen ausgeben zu können.\n",
    "def time_function(func):\n",
    "    def wrapper(**kwargs):\n",
    "        start = time.time()\n",
    "        result = func(**kwargs)\n",
    "        delta = time.time() - start\n",
    "        print(f'Funktion {func.__name__} hat {delta} Sekunden benötigt!')\n",
    "        return result\n",
    "    return wrapper"
   ]
  },
  {
   "cell_type": "code",
   "execution_count": null,
   "metadata": {},
   "outputs": [],
   "source": [
    "from gmpy2 import next_prime\n",
    "\n",
    "@cache\n",
    "def get_primes(n: int) -> list:\n",
    "    prime = 2\n",
    "    primes = [2]\n",
    "    while prime < n:\n",
    "        prime = next_prime(prime)\n",
    "        primes.append(int(prime))\n",
    "    return primes\n",
    "\n",
    "# Lookup Table für nachfolgende Beispiele\n",
    "primes_lut = get_primes(n=1000000000)\n",
    "\n",
    "prime_pair = 999999929, 999999937\n",
    "composite = prime_pair[0]*prime_pair[1]"
   ]
  },
  {
   "cell_type": "markdown",
   "metadata": {
    "collapsed": false
   },
   "source": [
    "# Probedivision"
   ]
  },
  {
   "cell_type": "code",
   "execution_count": null,
   "metadata": {},
   "outputs": [],
   "source": [
    "@time_function\n",
    "def probe_division(number: int, interval: tuple):\n",
    "    assert number > 1\n",
    "    n = number\n",
    "    prime_factor = 2\n",
    "    factors = []\n",
    "    for prime_factor in primes_lut:\n",
    "        # 1 ist trivialer Faktor\n",
    "        if n == 1:\n",
    "            break\n",
    "        if prime_factor < interval[0]:\n",
    "            continue\n",
    "        # Produkt zweier Faktoren größer sqrt(n) wären größer als n.\n",
    "        # Daher kann in dem Fall abgebrochen werden\n",
    "        if prime_factor**2 > n or prime_factor >= interval[1]:\n",
    "            factors.append(int(n))\n",
    "            break\n",
    "        # Faktor so lange rausdividieren, bis er n nicht mehr teilt.\n",
    "        while n % prime_factor == 0:\n",
    "            n = int(n/prime_factor)\n",
    "            factors.append(prime_factor)\n",
    "    return factors\n",
    "\n",
    "# Beispiel aus dem Vortrag: 999999866000004473\n",
    "print(f'Zusammengesetzte Zahl: {composite}')\n",
    "probe_division(number=composite, interval=(2,2000000000))"
   ]
  },
  {
   "cell_type": "markdown",
   "metadata": {
    "collapsed": false
   },
   "source": [
    "# Lehmann Faktorisierung"
   ]
  },
  {
   "cell_type": "code",
   "execution_count": null,
   "metadata": {},
   "outputs": [],
   "source": [
    "from math import floor, ceil, sqrt\n",
    "from gmpy2 import gcd\n",
    "\n",
    "root_n = lambda x, n: x**(1./n) if 0 <= x else -(-x)**(1./n)\n",
    "\n",
    "@time_function\n",
    "def lehmann_factor(n: int):\n",
    "    factors = probe_division(number=n, interval=(2, int(floor(root_n(n,3)))))\n",
    "    if len(factors) > 1:\n",
    "        print(f'Faktoren kleiner als {root_n(n,3)}')\n",
    "        return factors\n",
    "    for k in range(1, int(ceil(root_n(n,3))) + 1):\n",
    "        for x in range( ceil(sqrt(4*k*n)), floor(sqrt(4*k*n) + root_n(n,6)/4*sqrt(k)) ):\n",
    "            y = x**2 - 4*k*n\n",
    "            if sqrt(y) % 1 == 0:\n",
    "                return int(gcd(x+int(sqrt(y)),n))\n",
    "\n",
    "\n",
    "factor = lehmann_factor(n=composite)\n",
    "assert factor in prime_pair\n",
    "print(f'{factor} ist ein Faktor von {composite}')"
   ]
  },
  {
   "cell_type": "markdown",
   "metadata": {
    "collapsed": false
   },
   "source": [
    "# Fermat Faktorisierung"
   ]
  },
  {
   "cell_type": "code",
   "execution_count": null,
   "metadata": {},
   "outputs": [],
   "source": [
    "from math import isqrt\n",
    "from gmpy2 import is_square, is_prime, invert\n",
    "\n",
    "@time_function\n",
    "def fermat_factor(n: int):\n",
    "    print(f'{n.bit_length()} bits')\n",
    "    a = isqrt(n) + 1\n",
    "    b2 = 3\n",
    "    while not is_square(b2):\n",
    "        # Wir berechnen b^2, weil das schneller geht.\n",
    "        b2 = a**2 - n\n",
    "        a = a + 1\n",
    "    # 1 von a abziehen, damit wir die Abbruchbedingung im Schleifenkopf haben können.\n",
    "    a = a - 1\n",
    "    b = isqrt(b2)\n",
    "    p, q = (a+b), (a-b)\n",
    "    \n",
    "    return p, q\n",
    "\n",
    "p, q = fermat_factor(n=composite)\n",
    "assert is_prime(p) and is_prime(q)\n",
    "print(f'{p}\\n{q}')"
   ]
  },
  {
   "cell_type": "markdown",
   "metadata": {},
   "source": [
    "Man sieht hier gut, dass a die Umgebung ist, in der die Faktoren liegen, während b der Radius ist."
   ]
  },
  {
   "cell_type": "markdown",
   "metadata": {},
   "source": [
    "## Brechen des RSA-Moduls\n",
    "\n",
    "Um zu zeigen, dass die Fermat Faktorisierung für nah beieinander gewählte Zahlen besonders schnell funktioniert, prüfen wir eine 2046 bit lange Zahl.\n",
    "Die Faktoren dieser Zahl sind in der ersten Hälfte ihrer Bits gleich."
   ]
  },
  {
   "cell_type": "code",
   "execution_count": null,
   "metadata": {},
   "outputs": [],
   "source": [
    "p, q = fermat_factor(n=unsafe_composite)\n",
    "assert is_prime(p) and is_prime(q)\n",
    "assert unsafe_composite == p * q\n",
    "print(f'p: {p}\\nq: {q}')"
   ]
  },
  {
   "cell_type": "markdown",
   "metadata": {},
   "source": [
    "Wir können nun relativ schnell mithilfe der Multiplikativen Inversen modulo $\\Phi(N)$ den PrivateKey berechnen."
   ]
  },
  {
   "cell_type": "code",
   "execution_count": null,
   "metadata": {},
   "outputs": [],
   "source": [
    "import rsa\n",
    "\n",
    "# Public Key\n",
    "e = 65537\n",
    "N = unsafe_composite\n",
    "\n",
    "# Geheime Nachricht mit Public Key verschlüsseln!\n",
    "message = \"Hallo Bob!\".encode('utf8')\n",
    "encrypted = rsa.encrypt(message=message, pub_key=rsa.PublicKey(n=unsafe_composite, e=e))\n",
    "\n",
    "# Faktorisierung von N und Invertieren von e mod phi_n\n",
    "p, q = fermat_factor(n=unsafe_composite)\n",
    "phi_n = (p-1)*(q-1)\n",
    "d = invert(e,phi_n)\n",
    "\n",
    "print(f'PrivateKey: {d}')\n",
    "\n",
    "# Hier bauen wir unseren PrivateKey nur aus den Informationen des PublicKeys zusammen.  \n",
    "priv_key = rsa.PrivateKey(unsafe_composite, e, d, p, q)\n",
    "\n",
    "# Nun schauen wir, ob unsere Entschlüsselung funktioniert hat.\n",
    "decrypted = rsa.decrypt(crypto=encrypted, priv_key=priv_key)\n",
    "assert message == decrypted\n",
    "print(decrypted.decode('utf8'))\n"
   ]
  },
  {
   "cell_type": "markdown",
   "metadata": {
    "collapsed": false
   },
   "source": [
    "# Pollard Rho Faktorisierung"
   ]
  },
  {
   "cell_type": "code",
   "execution_count": null,
   "metadata": {},
   "outputs": [],
   "source": [
    "@time_function\n",
    "def pollard_rho(n: int):\n",
    "    g = lambda x,c: (x**2 - c) % n\n",
    "    t, h, c = 2, 2, 1\n",
    "    d = 0\n",
    "    while True:\n",
    "        \n",
    "        c = 1\n",
    "        while True:\n",
    "            # Turtle und Hare Methode\n",
    "            t = g(t,c)\n",
    "            h = g(g(h,c),c)\n",
    "            d = gcd(abs(t-h), n)\n",
    "\n",
    "            if d == n:\n",
    "                d = False\n",
    "            if d > 1:\n",
    "                break\n",
    "        \n",
    "        if d:\n",
    "            return int(d)\n",
    "        c += 1\n",
    "\n",
    "pollard_rho(n=composite)"
   ]
  },
  {
   "cell_type": "markdown",
   "metadata": {},
   "source": [
    "Wir testen die Behauptung, dass der Pollard Rho Algorithmus für Primzahl Paare besonders schnell ist, bei denen der erste Faktor kleiner ist.\n",
    "Dazu multiplizieren wir eine 256 bit Primzahl mit unserer 30 bit Primzahl"
   ]
  },
  {
   "cell_type": "code",
   "execution_count": null,
   "metadata": {},
   "outputs": [],
   "source": [
    "from rsa.parallel import getprime\n",
    "\n",
    "large_composite = prime_pair[0] * getprime(256, 16)\n",
    "pollard_rho(n=large_composite)"
   ]
  },
  {
   "cell_type": "markdown",
   "metadata": {},
   "source": [
    "Ein weiteres schönes Beispiel dafür ist die 8. Fermat Zahl, welche einen recht kleinen ersten Faktor hat."
   ]
  },
  {
   "cell_type": "code",
   "execution_count": null,
   "metadata": {},
   "outputs": [],
   "source": [
    "fermat_8 = 115792089237316195423570985008687907853269984665640564039457584007913129639937\n",
    "pollard_rho(n=fermat_8)"
   ]
  }
 ],
 "metadata": {
  "kernelspec": {
   "display_name": "Python 3",
   "language": "python",
   "name": "python3"
  },
  "language_info": {
   "codemirror_mode": {
    "name": "ipython",
    "version": 3
   },
   "file_extension": ".py",
   "mimetype": "text/x-python",
   "name": "python",
   "nbconvert_exporter": "python",
   "pygments_lexer": "ipython3",
   "version": "3.12.0"
  }
 },
 "nbformat": 4,
 "nbformat_minor": 2
}
