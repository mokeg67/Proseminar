{
 "cells": [
  {
   "cell_type": "code",
   "execution_count": 2,
   "metadata": {},
   "outputs": [],
   "source": [
    "import time\n",
    "from functools import cache\n",
    "from array import array\n",
    "\n",
    "# Definiere Dekorierer Funktion um die Laufzeit von den Algorithmen ausgeben zu können.\n",
    "def time_function(func):\n",
    "    def wrapper(**kwargs):\n",
    "        start = time.time()\n",
    "        result = func(**kwargs)\n",
    "        delta = time.time() - start\n",
    "        print(f'Funktion {func.__name__} hat {delta} Sekunden benötigt!')\n",
    "        return result\n",
    "    return wrapper"
   ]
  },
  {
   "cell_type": "code",
   "execution_count": 3,
   "metadata": {},
   "outputs": [],
   "source": [
    "@cache\n",
    "def get_primes(n: int) -> list:\n",
    "    # Für die Differenzen reichen shorts aus.\n",
    "    p_dist = array(\"H\")\n",
    "    last_prime = 2\n",
    "    # Sieb Implementation in der Vielfache eliminiert werden.\n",
    "    # Es wird zur Speicherkostenbegrenzung nur der Abstand zur letzten Primzahl gespeichert.\n",
    "    primes = [True] * (n-2)\n",
    "    for number in range(2, n):\n",
    "        if primes[number-2]:\n",
    "            p_dist.append(int((number-last_prime)))\n",
    "            last_prime = number\n",
    "            for multiple in range(2 * number,n, number):\n",
    "                primes[multiple - 2] = False\n",
    "    return p_dist\n",
    "\n",
    "# Lookup Table für nachfolgende Beispiele\n",
    "primes_lut = get_primes(n=1000000000)"
   ]
  },
  {
   "cell_type": "code",
   "execution_count": 4,
   "metadata": {},
   "outputs": [
    {
     "name": "stdout",
     "output_type": "stream",
     "text": [
      "Zusammengesetzte Zahl: 999999866000004473\n",
      "Funktion probe_division hat 12.323671579360962 Sekunden benötigt!\n"
     ]
    },
    {
     "data": {
      "text/plain": [
       "[999999929, 999999937]"
      ]
     },
     "execution_count": 4,
     "metadata": {},
     "output_type": "execute_result"
    }
   ],
   "source": [
    "@time_function\n",
    "def probe_division(number: int, interval: tuple):\n",
    "    assert number > 1\n",
    "    n = number\n",
    "    prime_factor = 2\n",
    "    factors = []\n",
    "    for difference in primes_lut:\n",
    "        # 1 ist trivialer Faktor\n",
    "        if n == 1:\n",
    "            break\n",
    "        prime_factor = prime_factor + difference\n",
    "        if prime_factor < interval[0]:\n",
    "            continue\n",
    "        # Produkt zweier Faktoren größer sqrt(n) wären größer als n.\n",
    "        # Daher kann in dem Fall abgebrochen werden\n",
    "        if prime_factor**2 > n or prime_factor >= interval[1]:\n",
    "            factors.append(int(n))\n",
    "            break\n",
    "        # Faktor so lange rausdividieren, bis er n nicht mehr teilt.\n",
    "        while n % prime_factor == 0:\n",
    "            n = int(n/prime_factor)\n",
    "            factors.append(prime_factor)\n",
    "    return factors\n",
    "\n",
    "# Beispiel aus dem Vortrag: 108598456355002\n",
    "test_number = (sum(primes_lut)+2) * (sum(primes_lut[:-1])+2)\n",
    "print(f'Zusammengesetzte Zahl: {test_number}')\n",
    "probe_division(number=test_number, interval=(2,2000000000))"
   ]
  },
  {
   "cell_type": "code",
   "execution_count": 5,
   "metadata": {},
   "outputs": [
    {
     "data": {
      "text/plain": [
       "16"
      ]
     },
     "execution_count": 5,
     "metadata": {},
     "output_type": "execute_result"
    }
   ],
   "source": [
    "@cache\n",
    "def ggT(number1: int, number2: int):\n",
    "    h = number1 % number2\n",
    "    a,b = number2, h\n",
    "\n",
    "    while b != 0:\n",
    "        h = a % b\n",
    "        a = b\n",
    "        b = h\n",
    "    return abs(a)\n",
    "\n",
    "# Test mit 2 Primzahlen\n",
    "assert ggT(99999989, 99999971) == 1\n",
    "ggT(65536, 48)"
   ]
  },
  {
   "cell_type": "code",
   "execution_count": 7,
   "metadata": {},
   "outputs": [
    {
     "name": "stdout",
     "output_type": "stream",
     "text": [
      "Funktion probe_division hat 0.018451929092407227 Sekunden benötigt!\n",
      "Funktion lehmann_factor hat 0.01856064796447754 Sekunden benötigt!\n",
      "999999937 ist ein Faktor von 999999866000004473\n",
      "Funktion probe_division hat 4.291534423828125e-06 Sekunden benötigt!\n",
      "Funktion lehmann_factor hat 3.170967102050781e-05 Sekunden benötigt!\n"
     ]
    },
    {
     "data": {
      "text/plain": [
       "17"
      ]
     },
     "execution_count": 7,
     "metadata": {},
     "output_type": "execute_result"
    }
   ],
   "source": [
    "from math import floor, ceil, sqrt\n",
    "\n",
    "root_n = lambda x, n: x**(1./n) if 0 <= x else -(-x)**(1./n)\n",
    "\n",
    "@time_function\n",
    "def lehmann_factor(n: int):\n",
    "    factors = probe_division(number=n, interval=(2, int(floor(root_n(n,3)))))\n",
    "    if len(factors) > 1:\n",
    "        print(f'Faktoren kleiner als {root_n(n,3)}')\n",
    "        return factors\n",
    "    for k in range(1, int(ceil(root_n(n,3))) + 1):\n",
    "        for x in range( ceil(sqrt(4*k*n)), floor(sqrt(4*k*n) + root_n(n,6)/4*sqrt(k)) ):\n",
    "            y = x**2 - 4*k*n\n",
    "            if sqrt(y) % 1 == 0:\n",
    "                return ggT(x+int(sqrt(y)),n)\n",
    "\n",
    "prime_pair = 999999929, 999999937\n",
    "composite = prime_pair[0]*prime_pair[1]\n",
    "factor = lehmann_factor(n=composite)\n",
    "assert factor in prime_pair\n",
    "print(f'{factor} ist ein Faktor von {composite}')\n",
    "\n",
    "lehmann_factor(n=17*23)"
   ]
  },
  {
   "cell_type": "code",
   "execution_count": null,
   "metadata": {},
   "outputs": [],
   "source": [
    "@time_function\n",
    "def fermat_factor(n: int):\n",
    "    return"
   ]
  }
 ],
 "metadata": {
  "kernelspec": {
   "display_name": "Python 3",
   "language": "python",
   "name": "python3"
  },
  "language_info": {
   "codemirror_mode": {
    "name": "ipython",
    "version": 3
   },
   "file_extension": ".py",
   "mimetype": "text/x-python",
   "name": "python",
   "nbconvert_exporter": "python",
   "pygments_lexer": "ipython3",
   "version": "3.12.0"
  }
 },
 "nbformat": 4,
 "nbformat_minor": 2
}
