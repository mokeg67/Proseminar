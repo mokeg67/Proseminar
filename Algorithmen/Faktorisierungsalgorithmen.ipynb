{
 "cells": [
  {
   "cell_type": "code",
   "execution_count": null,
   "metadata": {},
   "outputs": [],
   "source": [
    "import time\n",
    "from functools import cache\n",
    "from array import array\n",
    "\n",
    "unsafe_composite = 5261933844650100908430030083398098838688018147149529533465444719385566864605781576487305356717074882505882701585297765789323726258356035692769897420620858774763694117634408028918270394852404169072671551096321238430993811080749636806153881798472848720411673994908247486124703888115308603904735959457057925225503197625820670522050494196703154086316062123787934777520599894745147260327060174336101658295022275013051816321617046927321006322752178354002696596328204277122466231388232487691224076847557856202947748540263791767128195927179588238799470987669558119422552470505956858217654904628177286026365989987106877656917\n",
    "\n",
    "# Definiere Dekorierer Funktion um die Laufzeit von den Algorithmen ausgeben zu können.\n",
    "def time_function(func):\n",
    "    def wrapper(**kwargs):\n",
    "        start = time.time()\n",
    "        result = func(**kwargs)\n",
    "        delta = time.time() - start\n",
    "        print(f'Funktion {func.__name__} hat {delta} Sekunden benötigt!')\n",
    "        return result\n",
    "    return wrapper"
   ]
  },
  {
   "cell_type": "code",
   "execution_count": null,
   "metadata": {},
   "outputs": [],
   "source": [
    "@cache\n",
    "def get_primes(n: int) -> list:\n",
    "    # Für die Differenzen reichen shorts aus.\n",
    "    p_dist = array(\"H\")\n",
    "    last_prime = 2\n",
    "    # Sieb Implementation in der Vielfache eliminiert werden.\n",
    "    # Es wird zur Speicherkostenbegrenzung nur der Abstand zur letzten Primzahl gespeichert.\n",
    "    primes = [True] * (n-2)\n",
    "    for number in range(2, n):\n",
    "        if primes[number-2]:\n",
    "            p_dist.append(int((number-last_prime)))\n",
    "            last_prime = number\n",
    "            for multiple in range(2 * number,n, number):\n",
    "                primes[multiple - 2] = False\n",
    "    return p_dist\n",
    "\n",
    "# Lookup Table für nachfolgende Beispiele\n",
    "primes_lut = get_primes(n=1000000000)\n",
    "\n",
    "prime_pair = 999999929, 999999937\n",
    "composite = prime_pair[0]*prime_pair[1]"
   ]
  },
  {
   "cell_type": "code",
   "execution_count": null,
   "metadata": {},
   "outputs": [],
   "source": [
    "@time_function\n",
    "def probe_division(number: int, interval: tuple):\n",
    "    assert number > 1\n",
    "    n = number\n",
    "    prime_factor = 2\n",
    "    factors = []\n",
    "    for difference in primes_lut:\n",
    "        # 1 ist trivialer Faktor\n",
    "        if n == 1:\n",
    "            break\n",
    "        prime_factor = prime_factor + difference\n",
    "        if prime_factor < interval[0]:\n",
    "            continue\n",
    "        # Produkt zweier Faktoren größer sqrt(n) wären größer als n.\n",
    "        # Daher kann in dem Fall abgebrochen werden\n",
    "        if prime_factor**2 > n or prime_factor >= interval[1]:\n",
    "            factors.append(int(n))\n",
    "            break\n",
    "        # Faktor so lange rausdividieren, bis er n nicht mehr teilt.\n",
    "        while n % prime_factor == 0:\n",
    "            n = int(n/prime_factor)\n",
    "            factors.append(prime_factor)\n",
    "    return factors\n",
    "\n",
    "# Beispiel aus dem Vortrag: 999999866000004473\n",
    "print(f'Zusammengesetzte Zahl: {composite}')\n",
    "probe_division(number=composite, interval=(2,2000000000))"
   ]
  },
  {
   "cell_type": "code",
   "execution_count": null,
   "metadata": {},
   "outputs": [],
   "source": [
    "@cache\n",
    "def ggT(number1: int, number2: int):\n",
    "    h = number1 % number2\n",
    "    a,b = number2, h\n",
    "\n",
    "    while b != 0:\n",
    "        h = a % b\n",
    "        a = b\n",
    "        b = h\n",
    "    return abs(a)\n",
    "\n",
    "# Test mit 2 Primzahlen\n",
    "assert ggT(99999989, 99999971) == 1\n",
    "ggT(65536, 48)"
   ]
  },
  {
   "cell_type": "code",
   "execution_count": null,
   "metadata": {},
   "outputs": [],
   "source": [
    "from math import floor, ceil, sqrt\n",
    "\n",
    "root_n = lambda x, n: x**(1./n) if 0 <= x else -(-x)**(1./n)\n",
    "\n",
    "@time_function\n",
    "def lehmann_factor(n: int):\n",
    "    factors = probe_division(number=n, interval=(2, int(floor(root_n(n,3)))))\n",
    "    if len(factors) > 1:\n",
    "        print(f'Faktoren kleiner als {root_n(n,3)}')\n",
    "        return factors\n",
    "    for k in range(1, int(ceil(root_n(n,3))) + 1):\n",
    "        for x in range( ceil(sqrt(4*k*n)), floor(sqrt(4*k*n) + root_n(n,6)/4*sqrt(k)) ):\n",
    "            y = x**2 - 4*k*n\n",
    "            if sqrt(y) % 1 == 0:\n",
    "                return ggT(x+int(sqrt(y)),n)\n",
    "\n",
    "\n",
    "factor = lehmann_factor(n=composite)\n",
    "assert factor in prime_pair\n",
    "print(f'{factor} ist ein Faktor von {composite}')\n",
    "\n",
    "lehmann_factor(n=17*23)"
   ]
  },
  {
   "cell_type": "code",
   "execution_count": null,
   "metadata": {},
   "outputs": [],
   "source": [
    "from math import isqrt\n",
    "from gmpy2 import is_square, is_prime, invert\n",
    "\n",
    "@time_function\n",
    "def fermat_factor(n: int):\n",
    "    print(f'{n.bit_length()} bits')\n",
    "    a = isqrt(n) + 1\n",
    "    b2 = 3\n",
    "    while not is_square(b2):\n",
    "        b2 = a**2 - n\n",
    "        a = a + 1\n",
    "    # 1 von a abziehen, damit wir die Abbruchbedingung im Schleifenkopf haben können.\n",
    "    a = a - 1\n",
    "    b = isqrt(b2)\n",
    "    p, q = (a+b), (a-b)\n",
    "    return p, q\n",
    "\n",
    "p, q = fermat_factor(n=composite)\n",
    "assert is_prime(p) and is_prime(q)\n",
    "print(f'{p}\\n{q}')"
   ]
  },
  {
   "cell_type": "markdown",
   "metadata": {},
   "source": [
    "Um zu zeigen, dass die Fermat Faktorisierung für nah beieinander gewählte Zahlen besonders schnell funktioniert, prüfen wir eine 2046 bit lange Zahl.\n",
    "Die Faktoren dieser Zahl sind in der ersten Hälfte ihrer Bits gleich."
   ]
  },
  {
   "cell_type": "code",
   "execution_count": null,
   "metadata": {},
   "outputs": [],
   "source": [
    "p, q = fermat_factor(n=unsafe_composite)\n",
    "assert is_prime(p) and is_prime(q)\n",
    "assert unsafe_composite == p * q\n",
    "print(f'p: {p}\\nq: {q}')"
   ]
  },
  {
   "cell_type": "markdown",
   "metadata": {},
   "source": [
    "Wir können nun relativ schnell mithilfe der Multiplikativen Inversen modulo $\\Phi(N)$ den PrivateKey berechnen."
   ]
  },
  {
   "cell_type": "code",
   "execution_count": null,
   "metadata": {},
   "outputs": [],
   "source": [
    "import rsa\n",
    "\n",
    "e = 65537\n",
    "N = unsafe_composite\n",
    "\n",
    "# Geheime Nachricht!\n",
    "message = \"Hallo Bob!\".encode('utf8')\n",
    "encrypted = rsa.encrypt(message=message, pub_key=rsa.PublicKey(n=unsafe_composite, e=e))\n",
    "\n",
    "p, q = fermat_factor(n=unsafe_composite)\n",
    "phi_n = (p-1)*(q-1)\n",
    "d = invert(e,phi_n)\n",
    "\n",
    "print(f'PrivateKey: {d}')\n",
    "\n",
    "# Hier bauen wir unseren PrivateKey nur aus den Infos des PublicKeys zusammen.  \n",
    "priv_key = rsa.PrivateKey(unsafe_composite, e, d, p, q)\n",
    "\n",
    "# Nun schauen wir, ob unsere Entschlüsselung funktioniert hat.\n",
    "decrypted = rsa.decrypt(crypto=encrypted, priv_key=priv_key)\n",
    "assert message == decrypted\n",
    "print(decrypted.decode('utf8'))\n"
   ]
  }
 ],
 "metadata": {
  "kernelspec": {
   "display_name": "Python 3",
   "language": "python",
   "name": "python3"
  },
  "language_info": {
   "codemirror_mode": {
    "name": "ipython",
    "version": 3
   },
   "file_extension": ".py",
   "mimetype": "text/x-python",
   "name": "python",
   "nbconvert_exporter": "python",
   "pygments_lexer": "ipython3",
   "version": "3.12.0"
  }
 },
 "nbformat": 4,
 "nbformat_minor": 2
}
